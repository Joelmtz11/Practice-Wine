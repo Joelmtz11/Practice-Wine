{
  "nbformat": 4,
  "nbformat_minor": 0,
  "metadata": {
    "colab": {
      "name": "Practica Clasificación.ipynb",
      "provenance": []
    },
    "kernelspec": {
      "name": "python3",
      "display_name": "Python 3"
    },
    "language_info": {
      "name": "python"
    }
  },
  "cells": [
    {
      "cell_type": "markdown",
      "source": [
        "## Entendimiento de los datos"
      ],
      "metadata": {
        "id": "mtzT1icf4FOu"
      }
    },
    {
      "cell_type": "markdown",
      "source": [
        "Importamos nuestras librerias, Es importante que mandemos llamar a del sklearn, las librerias que usaremos a lo largo del análisis."
      ],
      "metadata": {
        "id": "Vb42Ppi6vkE_"
      }
    },
    {
      "cell_type": "code",
      "execution_count": null,
      "metadata": {
        "id": "5-a_pZeqkmQP"
      },
      "outputs": [],
      "source": [
        "import pandas as pd\n",
        "import numpy as np\n",
        "import matplotlib.pyplot as plt\n",
        "import seaborn as sns\n",
        "from sklearn.model_selection import train_test_split\n",
        "from sklearn.metrics import confusion_matrix\n",
        "from sklearn.metrics import classification_report\n",
        "from sklearn.metrics import roc_curve\n",
        "from sklearn.metrics import auc\n",
        "\n",
        "from sklearn.multiclass import OneVsRestClassifier"
      ]
    },
    {
      "cell_type": "markdown",
      "source": [
        "Se importa la base de datos de los Vinos"
      ],
      "metadata": {
        "id": "QYZa_goxv4KN"
      }
    },
    {
      "cell_type": "code",
      "source": [
        "df = pd.read_csv('/content/WineQT.csv')"
      ],
      "metadata": {
        "id": "m3PI0bSKnF66"
      },
      "execution_count": null,
      "outputs": []
    },
    {
      "cell_type": "markdown",
      "source": [
        "Exploramos el dataset, para saber que datos serán utiles para nuestro análisis"
      ],
      "metadata": {
        "id": "lEKgEZ9h2Z6D"
      }
    },
    {
      "cell_type": "code",
      "source": [
        "df.head()"
      ],
      "metadata": {
        "colab": {
          "base_uri": "https://localhost:8080/",
          "height": 268
        },
        "id": "xQdQmxjFnSNO",
        "outputId": "7d611d88-80d2-40e8-f199-13c188c667f2"
      },
      "execution_count": null,
      "outputs": [
        {
          "output_type": "execute_result",
          "data": {
            "text/html": [
              "\n",
              "  <div id=\"df-f7d944b8-cae7-4c22-b687-1c05e7661169\">\n",
              "    <div class=\"colab-df-container\">\n",
              "      <div>\n",
              "<style scoped>\n",
              "    .dataframe tbody tr th:only-of-type {\n",
              "        vertical-align: middle;\n",
              "    }\n",
              "\n",
              "    .dataframe tbody tr th {\n",
              "        vertical-align: top;\n",
              "    }\n",
              "\n",
              "    .dataframe thead th {\n",
              "        text-align: right;\n",
              "    }\n",
              "</style>\n",
              "<table border=\"1\" class=\"dataframe\">\n",
              "  <thead>\n",
              "    <tr style=\"text-align: right;\">\n",
              "      <th></th>\n",
              "      <th>fixed acidity</th>\n",
              "      <th>volatile acidity</th>\n",
              "      <th>citric acid</th>\n",
              "      <th>residual sugar</th>\n",
              "      <th>chlorides</th>\n",
              "      <th>free sulfur dioxide</th>\n",
              "      <th>total sulfur dioxide</th>\n",
              "      <th>density</th>\n",
              "      <th>pH</th>\n",
              "      <th>sulphates</th>\n",
              "      <th>alcohol</th>\n",
              "      <th>quality</th>\n",
              "      <th>Id</th>\n",
              "    </tr>\n",
              "  </thead>\n",
              "  <tbody>\n",
              "    <tr>\n",
              "      <th>0</th>\n",
              "      <td>7.4</td>\n",
              "      <td>0.70</td>\n",
              "      <td>0.00</td>\n",
              "      <td>1.9</td>\n",
              "      <td>0.076</td>\n",
              "      <td>11.0</td>\n",
              "      <td>34.0</td>\n",
              "      <td>0.9978</td>\n",
              "      <td>3.51</td>\n",
              "      <td>0.56</td>\n",
              "      <td>9.4</td>\n",
              "      <td>5</td>\n",
              "      <td>0</td>\n",
              "    </tr>\n",
              "    <tr>\n",
              "      <th>1</th>\n",
              "      <td>7.8</td>\n",
              "      <td>0.88</td>\n",
              "      <td>0.00</td>\n",
              "      <td>2.6</td>\n",
              "      <td>0.098</td>\n",
              "      <td>25.0</td>\n",
              "      <td>67.0</td>\n",
              "      <td>0.9968</td>\n",
              "      <td>3.20</td>\n",
              "      <td>0.68</td>\n",
              "      <td>9.8</td>\n",
              "      <td>5</td>\n",
              "      <td>1</td>\n",
              "    </tr>\n",
              "    <tr>\n",
              "      <th>2</th>\n",
              "      <td>7.8</td>\n",
              "      <td>0.76</td>\n",
              "      <td>0.04</td>\n",
              "      <td>2.3</td>\n",
              "      <td>0.092</td>\n",
              "      <td>15.0</td>\n",
              "      <td>54.0</td>\n",
              "      <td>0.9970</td>\n",
              "      <td>3.26</td>\n",
              "      <td>0.65</td>\n",
              "      <td>9.8</td>\n",
              "      <td>5</td>\n",
              "      <td>2</td>\n",
              "    </tr>\n",
              "    <tr>\n",
              "      <th>3</th>\n",
              "      <td>11.2</td>\n",
              "      <td>0.28</td>\n",
              "      <td>0.56</td>\n",
              "      <td>1.9</td>\n",
              "      <td>0.075</td>\n",
              "      <td>17.0</td>\n",
              "      <td>60.0</td>\n",
              "      <td>0.9980</td>\n",
              "      <td>3.16</td>\n",
              "      <td>0.58</td>\n",
              "      <td>9.8</td>\n",
              "      <td>6</td>\n",
              "      <td>3</td>\n",
              "    </tr>\n",
              "    <tr>\n",
              "      <th>4</th>\n",
              "      <td>7.4</td>\n",
              "      <td>0.70</td>\n",
              "      <td>0.00</td>\n",
              "      <td>1.9</td>\n",
              "      <td>0.076</td>\n",
              "      <td>11.0</td>\n",
              "      <td>34.0</td>\n",
              "      <td>0.9978</td>\n",
              "      <td>3.51</td>\n",
              "      <td>0.56</td>\n",
              "      <td>9.4</td>\n",
              "      <td>5</td>\n",
              "      <td>4</td>\n",
              "    </tr>\n",
              "  </tbody>\n",
              "</table>\n",
              "</div>\n",
              "      <button class=\"colab-df-convert\" onclick=\"convertToInteractive('df-f7d944b8-cae7-4c22-b687-1c05e7661169')\"\n",
              "              title=\"Convert this dataframe to an interactive table.\"\n",
              "              style=\"display:none;\">\n",
              "        \n",
              "  <svg xmlns=\"http://www.w3.org/2000/svg\" height=\"24px\"viewBox=\"0 0 24 24\"\n",
              "       width=\"24px\">\n",
              "    <path d=\"M0 0h24v24H0V0z\" fill=\"none\"/>\n",
              "    <path d=\"M18.56 5.44l.94 2.06.94-2.06 2.06-.94-2.06-.94-.94-2.06-.94 2.06-2.06.94zm-11 1L8.5 8.5l.94-2.06 2.06-.94-2.06-.94L8.5 2.5l-.94 2.06-2.06.94zm10 10l.94 2.06.94-2.06 2.06-.94-2.06-.94-.94-2.06-.94 2.06-2.06.94z\"/><path d=\"M17.41 7.96l-1.37-1.37c-.4-.4-.92-.59-1.43-.59-.52 0-1.04.2-1.43.59L10.3 9.45l-7.72 7.72c-.78.78-.78 2.05 0 2.83L4 21.41c.39.39.9.59 1.41.59.51 0 1.02-.2 1.41-.59l7.78-7.78 2.81-2.81c.8-.78.8-2.07 0-2.86zM5.41 20L4 18.59l7.72-7.72 1.47 1.35L5.41 20z\"/>\n",
              "  </svg>\n",
              "      </button>\n",
              "      \n",
              "  <style>\n",
              "    .colab-df-container {\n",
              "      display:flex;\n",
              "      flex-wrap:wrap;\n",
              "      gap: 12px;\n",
              "    }\n",
              "\n",
              "    .colab-df-convert {\n",
              "      background-color: #E8F0FE;\n",
              "      border: none;\n",
              "      border-radius: 50%;\n",
              "      cursor: pointer;\n",
              "      display: none;\n",
              "      fill: #1967D2;\n",
              "      height: 32px;\n",
              "      padding: 0 0 0 0;\n",
              "      width: 32px;\n",
              "    }\n",
              "\n",
              "    .colab-df-convert:hover {\n",
              "      background-color: #E2EBFA;\n",
              "      box-shadow: 0px 1px 2px rgba(60, 64, 67, 0.3), 0px 1px 3px 1px rgba(60, 64, 67, 0.15);\n",
              "      fill: #174EA6;\n",
              "    }\n",
              "\n",
              "    [theme=dark] .colab-df-convert {\n",
              "      background-color: #3B4455;\n",
              "      fill: #D2E3FC;\n",
              "    }\n",
              "\n",
              "    [theme=dark] .colab-df-convert:hover {\n",
              "      background-color: #434B5C;\n",
              "      box-shadow: 0px 1px 3px 1px rgba(0, 0, 0, 0.15);\n",
              "      filter: drop-shadow(0px 1px 2px rgba(0, 0, 0, 0.3));\n",
              "      fill: #FFFFFF;\n",
              "    }\n",
              "  </style>\n",
              "\n",
              "      <script>\n",
              "        const buttonEl =\n",
              "          document.querySelector('#df-f7d944b8-cae7-4c22-b687-1c05e7661169 button.colab-df-convert');\n",
              "        buttonEl.style.display =\n",
              "          google.colab.kernel.accessAllowed ? 'block' : 'none';\n",
              "\n",
              "        async function convertToInteractive(key) {\n",
              "          const element = document.querySelector('#df-f7d944b8-cae7-4c22-b687-1c05e7661169');\n",
              "          const dataTable =\n",
              "            await google.colab.kernel.invokeFunction('convertToInteractive',\n",
              "                                                     [key], {});\n",
              "          if (!dataTable) return;\n",
              "\n",
              "          const docLinkHtml = 'Like what you see? Visit the ' +\n",
              "            '<a target=\"_blank\" href=https://colab.research.google.com/notebooks/data_table.ipynb>data table notebook</a>'\n",
              "            + ' to learn more about interactive tables.';\n",
              "          element.innerHTML = '';\n",
              "          dataTable['output_type'] = 'display_data';\n",
              "          await google.colab.output.renderOutput(dataTable, element);\n",
              "          const docLink = document.createElement('div');\n",
              "          docLink.innerHTML = docLinkHtml;\n",
              "          element.appendChild(docLink);\n",
              "        }\n",
              "      </script>\n",
              "    </div>\n",
              "  </div>\n",
              "  "
            ],
            "text/plain": [
              "   fixed acidity  volatile acidity  citric acid  residual sugar  chlorides  \\\n",
              "0            7.4              0.70         0.00             1.9      0.076   \n",
              "1            7.8              0.88         0.00             2.6      0.098   \n",
              "2            7.8              0.76         0.04             2.3      0.092   \n",
              "3           11.2              0.28         0.56             1.9      0.075   \n",
              "4            7.4              0.70         0.00             1.9      0.076   \n",
              "\n",
              "   free sulfur dioxide  total sulfur dioxide  density    pH  sulphates  \\\n",
              "0                 11.0                  34.0   0.9978  3.51       0.56   \n",
              "1                 25.0                  67.0   0.9968  3.20       0.68   \n",
              "2                 15.0                  54.0   0.9970  3.26       0.65   \n",
              "3                 17.0                  60.0   0.9980  3.16       0.58   \n",
              "4                 11.0                  34.0   0.9978  3.51       0.56   \n",
              "\n",
              "   alcohol  quality  Id  \n",
              "0      9.4        5   0  \n",
              "1      9.8        5   1  \n",
              "2      9.8        5   2  \n",
              "3      9.8        6   3  \n",
              "4      9.4        5   4  "
            ]
          },
          "metadata": {},
          "execution_count": 47
        }
      ]
    },
    {
      "cell_type": "markdown",
      "source": [
        "Quitamos la Columna de Id, porque no la necesitamos"
      ],
      "metadata": {
        "id": "nlJ3srZt_itf"
      }
    },
    {
      "cell_type": "code",
      "source": [
        "\n",
        "\n",
        "df.drop(columns=\"Id\",inplace=True)\n",
        "\n",
        "\n",
        "\n",
        "\n",
        "print(\"EL Valor de  Quality \",df[\"quality\"].unique())"
      ],
      "metadata": {
        "colab": {
          "base_uri": "https://localhost:8080/"
        },
        "id": "I4FDdbqv0Gkz",
        "outputId": "381961ca-b93e-46e8-c2ad-cee594687e6f"
      },
      "execution_count": null,
      "outputs": [
        {
          "output_type": "stream",
          "name": "stdout",
          "text": [
            "EL Valor de  Quality  [5 6 7 4 8 3]\n"
          ]
        }
      ]
    },
    {
      "cell_type": "code",
      "source": [
        "from sklearn.preprocessing import LabelEncoder\n",
        "df['quality'] = LabelEncoder().fit_transform(df['quality'])"
      ],
      "metadata": {
        "id": "QdfeIrMd3ZYm"
      },
      "execution_count": null,
      "outputs": []
    },
    {
      "cell_type": "code",
      "source": [
        "df.head()\n",
        "df['quality'].unique()"
      ],
      "metadata": {
        "colab": {
          "base_uri": "https://localhost:8080/"
        },
        "id": "FHSIWaMah9e1",
        "outputId": "eb8a089d-1132-4e09-b736-28325b4a8465"
      },
      "execution_count": null,
      "outputs": [
        {
          "output_type": "execute_result",
          "data": {
            "text/plain": [
              "array([2, 3, 4, 1, 5, 0])"
            ]
          },
          "metadata": {},
          "execution_count": 50
        }
      ]
    },
    {
      "cell_type": "code",
      "source": [
        "fig, ax = plt.subplots(figsize=(10,10))\n",
        "df.hist(ax=ax)\n",
        "plt.show()"
      ],
      "metadata": {
        "colab": {
          "base_uri": "https://localhost:8080/",
          "height": 662
        },
        "id": "XzCpNQ6EiEes",
        "outputId": "e23acb2a-30c3-4d9a-f9fa-d7845d119a34"
      },
      "execution_count": null,
      "outputs": [
        {
          "output_type": "stream",
          "name": "stderr",
          "text": [
            "/usr/local/lib/python3.7/dist-packages/ipykernel_launcher.py:2: UserWarning: To output multiple subplots, the figure containing the passed axes is being cleared\n",
            "  \n"
          ]
        },
        {
          "output_type": "display_data",
          "data": {
            "image/png": "[encoded data removed]",
            "text/plain": [
              "<Figure size 720x720 with 12 Axes>"
            ]
          },
          "metadata": {
            "needs_background": "light"
          }
        }
      ]
    },
    {
      "cell_type": "code",
      "source": [
        "df.describe()"
      ],
      "metadata": {
        "colab": {
          "base_uri": "https://localhost:8080/",
          "height": 399
        },
        "id": "ZiKznX6GiJ53",
        "outputId": "0b1aea90-eb8a-4cba-b2e3-aa810114d7e0"
      },
      "execution_count": null,
      "outputs": [
        {
          "output_type": "execute_result",
          "data": {
            "text/html": [
              "\n",
              "  <div id=\"df-ee25dcbd-92aa-4911-8c39-32f0614015f8\">\n",
              "    <div class=\"colab-df-container\">\n",
              "      <div>\n",
              "<style scoped>\n",
              "    .dataframe tbody tr th:only-of-type {\n",
              "        vertical-align: middle;\n",
              "    }\n",
              "\n",
              "    .dataframe tbody tr th {\n",
              "        vertical-align: top;\n",
              "    }\n",
              "\n",
              "    .dataframe thead th {\n",
              "        text-align: right;\n",
              "    }\n",
              "</style>\n",
              "<table border=\"1\" class=\"dataframe\">\n",
              "  <thead>\n",
              "    <tr style=\"text-align: right;\">\n",
              "      <th></th>\n",
              "      <th>fixed acidity</th>\n",
              "      <th>volatile acidity</th>\n",
              "      <th>citric acid</th>\n",
              "      <th>residual sugar</th>\n",
              "      <th>chlorides</th>\n",
              "      <th>free sulfur dioxide</th>\n",
              "      <th>total sulfur dioxide</th>\n",
              "      <th>density</th>\n",
              "      <th>pH</th>\n",
              "      <th>sulphates</th>\n",
              "      <th>alcohol</th>\n",
              "      <th>quality</th>\n",
              "    </tr>\n",
              "  </thead>\n",
              "  <tbody>\n",
              "    <tr>\n",
              "      <th>count</th>\n",
              "      <td>1143.000000</td>\n",
              "      <td>1143.000000</td>\n",
              "      <td>1143.000000</td>\n",
              "      <td>1143.000000</td>\n",
              "      <td>1143.000000</td>\n",
              "      <td>1143.000000</td>\n",
              "      <td>1143.000000</td>\n",
              "      <td>1143.000000</td>\n",
              "      <td>1143.000000</td>\n",
              "      <td>1143.000000</td>\n",
              "      <td>1143.000000</td>\n",
              "      <td>1143.000000</td>\n",
              "    </tr>\n",
              "    <tr>\n",
              "      <th>mean</th>\n",
              "      <td>8.311111</td>\n",
              "      <td>0.531339</td>\n",
              "      <td>0.268364</td>\n",
              "      <td>2.532152</td>\n",
              "      <td>0.086933</td>\n",
              "      <td>15.615486</td>\n",
              "      <td>45.914698</td>\n",
              "      <td>0.996730</td>\n",
              "      <td>3.311015</td>\n",
              "      <td>0.657708</td>\n",
              "      <td>10.442111</td>\n",
              "      <td>2.657043</td>\n",
              "    </tr>\n",
              "    <tr>\n",
              "      <th>std</th>\n",
              "      <td>1.747595</td>\n",
              "      <td>0.179633</td>\n",
              "      <td>0.196686</td>\n",
              "      <td>1.355917</td>\n",
              "      <td>0.047267</td>\n",
              "      <td>10.250486</td>\n",
              "      <td>32.782130</td>\n",
              "      <td>0.001925</td>\n",
              "      <td>0.156664</td>\n",
              "      <td>0.170399</td>\n",
              "      <td>1.082196</td>\n",
              "      <td>0.805824</td>\n",
              "    </tr>\n",
              "    <tr>\n",
              "      <th>min</th>\n",
              "      <td>4.600000</td>\n",
              "      <td>0.120000</td>\n",
              "      <td>0.000000</td>\n",
              "      <td>0.900000</td>\n",
              "      <td>0.012000</td>\n",
              "      <td>1.000000</td>\n",
              "      <td>6.000000</td>\n",
              "      <td>0.990070</td>\n",
              "      <td>2.740000</td>\n",
              "      <td>0.330000</td>\n",
              "      <td>8.400000</td>\n",
              "      <td>0.000000</td>\n",
              "    </tr>\n",
              "    <tr>\n",
              "      <th>25%</th>\n",
              "      <td>7.100000</td>\n",
              "      <td>0.392500</td>\n",
              "      <td>0.090000</td>\n",
              "      <td>1.900000</td>\n",
              "      <td>0.070000</td>\n",
              "      <td>7.000000</td>\n",
              "      <td>21.000000</td>\n",
              "      <td>0.995570</td>\n",
              "      <td>3.205000</td>\n",
              "      <td>0.550000</td>\n",
              "      <td>9.500000</td>\n",
              "      <td>2.000000</td>\n",
              "    </tr>\n",
              "    <tr>\n",
              "      <th>50%</th>\n",
              "      <td>7.900000</td>\n",
              "      <td>0.520000</td>\n",
              "      <td>0.250000</td>\n",
              "      <td>2.200000</td>\n",
              "      <td>0.079000</td>\n",
              "      <td>13.000000</td>\n",
              "      <td>37.000000</td>\n",
              "      <td>0.996680</td>\n",
              "      <td>3.310000</td>\n",
              "      <td>0.620000</td>\n",
              "      <td>10.200000</td>\n",
              "      <td>3.000000</td>\n",
              "    </tr>\n",
              "    <tr>\n",
              "      <th>75%</th>\n",
              "      <td>9.100000</td>\n",
              "      <td>0.640000</td>\n",
              "      <td>0.420000</td>\n",
              "      <td>2.600000</td>\n",
              "      <td>0.090000</td>\n",
              "      <td>21.000000</td>\n",
              "      <td>61.000000</td>\n",
              "      <td>0.997845</td>\n",
              "      <td>3.400000</td>\n",
              "      <td>0.730000</td>\n",
              "      <td>11.100000</td>\n",
              "      <td>3.000000</td>\n",
              "    </tr>\n",
              "    <tr>\n",
              "      <th>max</th>\n",
              "      <td>15.900000</td>\n",
              "      <td>1.580000</td>\n",
              "      <td>1.000000</td>\n",
              "      <td>15.500000</td>\n",
              "      <td>0.611000</td>\n",
              "      <td>68.000000</td>\n",
              "      <td>289.000000</td>\n",
              "      <td>1.003690</td>\n",
              "      <td>4.010000</td>\n",
              "      <td>2.000000</td>\n",
              "      <td>14.900000</td>\n",
              "      <td>5.000000</td>\n",
              "    </tr>\n",
              "  </tbody>\n",
              "</table>\n",
              "</div>\n",
              "      <button class=\"colab-df-convert\" onclick=\"convertToInteractive('df-ee25dcbd-92aa-4911-8c39-32f0614015f8')\"\n",
              "              title=\"Convert this dataframe to an interactive table.\"\n",
              "              style=\"display:none;\">\n",
              "        \n",
              "  <svg xmlns=\"http://www.w3.org/2000/svg\" height=\"24px\"viewBox=\"0 0 24 24\"\n",
              "       width=\"24px\">\n",
              "    <path d=\"M0 0h24v24H0V0z\" fill=\"none\"/>\n",
              "    <path d=\"M18.56 5.44l.94 2.06.94-2.06 2.06-.94-2.06-.94-.94-2.06-.94 2.06-2.06.94zm-11 1L8.5 8.5l.94-2.06 2.06-.94-2.06-.94L8.5 2.5l-.94 2.06-2.06.94zm10 10l.94 2.06.94-2.06 2.06-.94-2.06-.94-.94-2.06-.94 2.06-2.06.94z\"/><path d=\"M17.41 7.96l-1.37-1.37c-.4-.4-.92-.59-1.43-.59-.52 0-1.04.2-1.43.59L10.3 9.45l-7.72 7.72c-.78.78-.78 2.05 0 2.83L4 21.41c.39.39.9.59 1.41.59.51 0 1.02-.2 1.41-.59l7.78-7.78 2.81-2.81c.8-.78.8-2.07 0-2.86zM5.41 20L4 18.59l7.72-7.72 1.47 1.35L5.41 20z\"/>\n",
              "  </svg>\n",
              "      </button>\n",
              "      \n",
              "  <style>\n",
              "    .colab-df-container {\n",
              "      display:flex;\n",
              "      flex-wrap:wrap;\n",
              "      gap: 12px;\n",
              "    }\n",
              "\n",
              "    .colab-df-convert {\n",
              "      background-color: #E8F0FE;\n",
              "      border: none;\n",
              "      border-radius: 50%;\n",
              "      cursor: pointer;\n",
              "      display: none;\n",
              "      fill: #1967D2;\n",
              "      height: 32px;\n",
              "      padding: 0 0 0 0;\n",
              "      width: 32px;\n",
              "    }\n",
              "\n",
              "    .colab-df-convert:hover {\n",
              "      background-color: #E2EBFA;\n",
              "      box-shadow: 0px 1px 2px rgba(60, 64, 67, 0.3), 0px 1px 3px 1px rgba(60, 64, 67, 0.15);\n",
              "      fill: #174EA6;\n",
              "    }\n",
              "\n",
              "    [theme=dark] .colab-df-convert {\n",
              "      background-color: #3B4455;\n",
              "      fill: #D2E3FC;\n",
              "    }\n",
              "\n",
              "    [theme=dark] .colab-df-convert:hover {\n",
              "      background-color: #434B5C;\n",
              "      box-shadow: 0px 1px 3px 1px rgba(0, 0, 0, 0.15);\n",
              "      filter: drop-shadow(0px 1px 2px rgba(0, 0, 0, 0.3));\n",
              "      fill: #FFFFFF;\n",
              "    }\n",
              "  </style>\n",
              "\n",
              "      <script>\n",
              "        const buttonEl =\n",
              "          document.querySelector('#df-ee25dcbd-92aa-4911-8c39-32f0614015f8 button.colab-df-convert');\n",
              "        buttonEl.style.display =\n",
              "          google.colab.kernel.accessAllowed ? 'block' : 'none';\n",
              "\n",
              "        async function convertToInteractive(key) {\n",
              "          const element = document.querySelector('#df-ee25dcbd-92aa-4911-8c39-32f0614015f8');\n",
              "          const dataTable =\n",
              "            await google.colab.kernel.invokeFunction('convertToInteractive',\n",
              "                                                     [key], {});\n",
              "          if (!dataTable) return;\n",
              "\n",
              "          const docLinkHtml = 'Like what you see? Visit the ' +\n",
              "            '<a target=\"_blank\" href=https://colab.research.google.com/notebooks/data_table.ipynb>data table notebook</a>'\n",
              "            + ' to learn more about interactive tables.';\n",
              "          element.innerHTML = '';\n",
              "          dataTable['output_type'] = 'display_data';\n",
              "          await google.colab.output.renderOutput(dataTable, element);\n",
              "          const docLink = document.createElement('div');\n",
              "          docLink.innerHTML = docLinkHtml;\n",
              "          element.appendChild(docLink);\n",
              "        }\n",
              "      </script>\n",
              "    </div>\n",
              "  </div>\n",
              "  "
            ],
            "text/plain": [
              "       fixed acidity  volatile acidity  citric acid  residual sugar  \\\n",
              "count    1143.000000       1143.000000  1143.000000     1143.000000   \n",
              "mean        8.311111          0.531339     0.268364        2.532152   \n",
              "std         1.747595          0.179633     0.196686        1.355917   \n",
              "min         4.600000          0.120000     0.000000        0.900000   \n",
              "25%         7.100000          0.392500     0.090000        1.900000   \n",
              "50%         7.900000          0.520000     0.250000        2.200000   \n",
              "75%         9.100000          0.640000     0.420000        2.600000   \n",
              "max        15.900000          1.580000     1.000000       15.500000   \n",
              "\n",
              "         chlorides  free sulfur dioxide  total sulfur dioxide      density  \\\n",
              "count  1143.000000          1143.000000           1143.000000  1143.000000   \n",
              "mean      0.086933            15.615486             45.914698     0.996730   \n",
              "std       0.047267            10.250486             32.782130     0.001925   \n",
              "min       0.012000             1.000000              6.000000     0.990070   \n",
              "25%       0.070000             7.000000             21.000000     0.995570   \n",
              "50%       0.079000            13.000000             37.000000     0.996680   \n",
              "75%       0.090000            21.000000             61.000000     0.997845   \n",
              "max       0.611000            68.000000            289.000000     1.003690   \n",
              "\n",
              "                pH    sulphates      alcohol      quality  \n",
              "count  1143.000000  1143.000000  1143.000000  1143.000000  \n",
              "mean      3.311015     0.657708    10.442111     2.657043  \n",
              "std       0.156664     0.170399     1.082196     0.805824  \n",
              "min       2.740000     0.330000     8.400000     0.000000  \n",
              "25%       3.205000     0.550000     9.500000     2.000000  \n",
              "50%       3.310000     0.620000    10.200000     3.000000  \n",
              "75%       3.400000     0.730000    11.100000     3.000000  \n",
              "max       4.010000     2.000000    14.900000     5.000000  "
            ]
          },
          "metadata": {},
          "execution_count": 52
        }
      ]
    },
    {
      "cell_type": "code",
      "source": [
        "df.isna().sum()/df.shape[0]"
      ],
      "metadata": {
        "colab": {
          "base_uri": "https://localhost:8080/"
        },
        "id": "NwoEId-9ighx",
        "outputId": "7e23d466-eb8c-4369-96ea-14551fcd6d08"
      },
      "execution_count": null,
      "outputs": [
        {
          "output_type": "execute_result",
          "data": {
            "text/plain": [
              "fixed acidity           0.0\n",
              "volatile acidity        0.0\n",
              "citric acid             0.0\n",
              "residual sugar          0.0\n",
              "chlorides               0.0\n",
              "free sulfur dioxide     0.0\n",
              "total sulfur dioxide    0.0\n",
              "density                 0.0\n",
              "pH                      0.0\n",
              "sulphates               0.0\n",
              "alcohol                 0.0\n",
              "quality                 0.0\n",
              "dtype: float64"
            ]
          },
          "metadata": {},
          "execution_count": 53
        }
      ]
    },
    {
      "cell_type": "code",
      "source": [
        "X = df.drop('quality',axis=1)\n",
        "Y = df['quality']"
      ],
      "metadata": {
        "id": "YZbrMVMLiqPE"
      },
      "execution_count": null,
      "outputs": []
    },
    {
      "cell_type": "code",
      "source": [
        "X_train,X_test,y_train,y_test = train_test_split(X,Y,test_size=.30,random_state=0,stratify=Y)\n"
      ],
      "metadata": {
        "id": "VTkj9YiliyzM"
      },
      "execution_count": null,
      "outputs": []
    },
    {
      "cell_type": "code",
      "source": [
        "from sklearn.ensemble import RandomForestClassifier\n",
        "from sklearn.tree import DecisionTreeClassifier\n",
        "from sklearn.tree import plot_tree"
      ],
      "metadata": {
        "id": "CgVGspHtWBWb"
      },
      "execution_count": null,
      "outputs": []
    },
    {
      "cell_type": "code",
      "source": [
        "model = DecisionTreeClassifier()\n",
        "#model = DecisionTreeClassifier(max_depth=10,max_leaf_nodes=20)\n",
        "\n",
        "model.fit(X_train,y_train)  \n",
        "predictions = model.predict(X_test)\n",
        "\n",
        "\n",
        "print('Puntaje entrenamiento: {}\\n'.format(model.score(X_train,y_train)))\n",
        "print('Puntaje Test: {}\\n'.format(model.score(X_test,y_test)))"
      ],
      "metadata": {
        "colab": {
          "base_uri": "https://localhost:8080/"
        },
        "id": "n2Vr5ATzjJiI",
        "outputId": "0f0926aa-7988-4c4a-9f58-204176729a97"
      },
      "execution_count": null,
      "outputs": [
        {
          "output_type": "stream",
          "name": "stdout",
          "text": [
            "Puntaje entrenamiento: 1.0\n",
            "\n",
            "Puntaje Test: 0.597667638483965\n",
            "\n"
          ]
        }
      ]
    },
    {
      "cell_type": "code",
      "source": [
        "cm = confusion_matrix(y_test, predictions)\n",
        "print(cm)"
      ],
      "metadata": {
        "colab": {
          "base_uri": "https://localhost:8080/"
        },
        "id": "6jHfzEOjmDDH",
        "outputId": "1d02e928-714f-44c3-9195-9ea4125da144"
      },
      "execution_count": null,
      "outputs": [
        {
          "output_type": "stream",
          "name": "stdout",
          "text": [
            "[[  0   0   1   1   0   0]\n",
            " [  0   1   6   2   1   0]\n",
            " [  1   4 103  31   6   0]\n",
            " [  0   1  36  84  15   2]\n",
            " [  0   1   4  20  17   1]\n",
            " [  0   0   0   1   4   0]]\n"
          ]
        }
      ]
    },
    {
      "cell_type": "code",
      "source": [
        "print(classification_report(y_test,predictions))"
      ],
      "metadata": {
        "colab": {
          "base_uri": "https://localhost:8080/"
        },
        "id": "7O69PjmvmGwi",
        "outputId": "ca269a89-4bda-4a01-d9fb-99aa54068081"
      },
      "execution_count": null,
      "outputs": [
        {
          "output_type": "stream",
          "name": "stdout",
          "text": [
            "              precision    recall  f1-score   support\n",
            "\n",
            "           0       0.00      0.00      0.00         2\n",
            "           1       0.14      0.10      0.12        10\n",
            "           2       0.69      0.71      0.70       145\n",
            "           3       0.60      0.61      0.61       138\n",
            "           4       0.40      0.40      0.40        43\n",
            "           5       0.00      0.00      0.00         5\n",
            "\n",
            "    accuracy                           0.60       343\n",
            "   macro avg       0.30      0.30      0.30       343\n",
            "weighted avg       0.59      0.60      0.59       343\n",
            "\n"
          ]
        }
      ]
    },
    {
      "cell_type": "markdown",
      "source": [
        "# Análisis de los datos "
      ],
      "metadata": {
        "id": "USXrmi_D39iL"
      }
    },
    {
      "cell_type": "code",
      "source": [
        "from sklearn.preprocessing import label_binarize\n",
        "Y = label_binarize(Y, classes=[0,1,2])\n",
        "X_train,X_test,y_train,y_test = train_test_split(X,Y,test_size=.30,random_state=0,stratify=Y)"
      ],
      "metadata": {
        "id": "o5MZhb09mM7T"
      },
      "execution_count": null,
      "outputs": []
    },
    {
      "cell_type": "code",
      "source": [
        "clf = OneVsRestClassifier(model)\n",
        "y_score = clf.fit(X_train, y_train).predict_proba(X_test)\n",
        "\n",
        "n_classes = 3\n",
        "# Compute ROC curve and ROC area for each class\n",
        "fpr = dict()\n",
        "tpr = dict()\n",
        "roc_auc = dict()\n",
        "for i in range(n_classes):\n",
        "    fpr[i], tpr[i], _ = roc_curve(y_test[:, i], y_score[:, i])\n",
        "    roc_auc[i] = auc(fpr[i], tpr[i])\n",
        "\n",
        "# Compute micro-average ROC curve and ROC area\n",
        "fpr[\"micro\"], tpr[\"micro\"], _ = roc_curve(y_test.ravel(), y_score.ravel())\n",
        "roc_auc[\"micro\"] = auc(fpr[\"micro\"], tpr[\"micro\"])\n",
        "\n",
        "# Plot of a ROC curve for a specific class\n",
        "plt.figure()\n",
        "plt.plot(fpr[2], tpr[2], label='ROC curve (area = %0.2f)' % roc_auc[2])\n",
        "plt.plot([0, 1], [0, 1], 'k--')\n",
        "plt.xlim([0.0, 1.0])\n",
        "plt.ylim([0.0, 1.05])\n",
        "plt.xlabel('False Positive Rate')\n",
        "plt.ylabel('True Positive Rate')\n",
        "plt.title('Receiver operating characteristic')\n",
        "plt.legend(loc=\"lower right\")\n",
        "plt.show()\n",
        "\n",
        "# Plot ROC curve\n",
        "plt.figure()\n",
        "plt.plot(fpr[\"micro\"], tpr[\"micro\"],\n",
        "         label='micro-average ROC curve (area = {0:0.2f})'\n",
        "               ''.format(roc_auc[\"micro\"]))\n",
        "for i in range(n_classes):\n",
        "    plt.plot(fpr[i], tpr[i], label='ROC curve of class {0} (area = {1:0.2f})'\n",
        "                                   ''.format(i, roc_auc[i]))\n",
        "\n",
        "plt.plot([0, 1], [0, 1], 'k--')\n",
        "plt.xlim([0.0, 1.0])\n",
        "plt.ylim([0.0, 1.05])\n",
        "plt.xlabel('False Positive Rate')\n",
        "plt.ylabel('True Positive Rate')\n",
        "plt.title('Some extension of Receiver operating characteristic to multi-class')\n",
        "plt.legend(loc=\"lower right\")\n",
        "plt.show()"
      ],
      "metadata": {
        "colab": {
          "base_uri": "https://localhost:8080/",
          "height": 573
        },
        "id": "uuB9SJadTEca",
        "outputId": "6bea28bd-be09-4067-d593-71d9712b50cc"
      },
      "execution_count": null,
      "outputs": [
        {
          "output_type": "display_data",
          "data": {
            "image/png": "[encoded data removed]",
            "text/plain": [
              "<Figure size 432x288 with 1 Axes>"
            ]
          },
          "metadata": {
            "needs_background": "light"
          }
        },
        {
          "output_type": "display_data",
          "data": {
            "image/png": "[encoded data removed]",
            "text/plain": [
              "<Figure size 432x288 with 1 Axes>"
            ]
          },
          "metadata": {
            "needs_background": "light"
          }
        }
      ]
    },
    {
      "cell_type": "markdown",
      "source": [
        "En Las gráficas anteriores podemos se representan el  binary y el  multiclass "
      ],
      "metadata": {
        "id": "LFRQGj4eLH9L"
      }
    },
    {
      "cell_type": "code",
      "source": [
        "\n",
        "plt.figure(figsize=(20,7))\n",
        "sns.lineplot(data=df, x=\"quality\",y=\"volatile acidity\",label=\"Volatile Acidity\")\n",
        "sns.lineplot(data=df, x=\"quality\",y=\"citric acid\",label=\"Citric Acid\")\n",
        "sns.lineplot(data=df, x=\"quality\",y=\"chlorides\",label=\"chlorides\")\n",
        "sns.lineplot(data=df, x=\"quality\",y=\"pH\",label=\"PH\")\n",
        "sns.lineplot(data=df, x=\"quality\",y=\"sulphates\",label=\"Sulphates\")\n",
        "plt.ylabel(\"Quantity\")\n",
        "plt.title(\"Impacto  en la quality\")\n",
        "plt.legend()\n",
        "plt.show()"
      ],
      "metadata": {
        "colab": {
          "base_uri": "https://localhost:8080/",
          "height": 458
        },
        "id": "edDlB8Gb1K6k",
        "outputId": "909bad4a-69b2-40e0-d41d-63ed5c0c71f2"
      },
      "execution_count": null,
      "outputs": [
        {
          "output_type": "display_data",
          "data": {
            "image/png": "[encoded data removed]",
            "text/plain": [
              "<Figure size 1440x504 with 1 Axes>"
            ]
          },
          "metadata": {
            "needs_background": "light"
          }
        }
      ]
    },
    {
      "cell_type": "markdown",
      "source": [
        "Con la Gráfica anterior podemos darnos una idea de que tan importante es cada elemento para poder decir que un vino es de buena calidad."
      ],
      "metadata": {
        "id": "NtOwm-fF-Upr"
      }
    },
    {
      "cell_type": "markdown",
      "source": [
        "# Creación de los modelos, Se importan las librerias para Contruir los modelos :\n",
        "\n",
        "\n",
        "\n",
        "\n",
        "\n"
      ],
      "metadata": {
        "id": "kodtCnHu4Zaz"
      }
    },
    {
      "cell_type": "code",
      "source": [
        "\n",
        "\n",
        "\n",
        "from sklearn.linear_model import LinearRegression ,LogisticRegression\n",
        "from sklearn.model_selection import train_test_split\n",
        "from sklearn.metrics import mean_absolute_error ,mean_squared_error, median_absolute_error,confusion_matrix,accuracy_score\n",
        "\n",
        "from sklearn.tree import DecisionTreeClassifier\n",
        "from sklearn.neighbors import KNeighborsClassifier\n",
        "\n",
        "from sklearn.svm import SVC ,SVR"
      ],
      "metadata": {
        "id": "i7YPqx5M1pM5"
      },
      "execution_count": null,
      "outputs": []
    },
    {
      "cell_type": "markdown",
      "source": [
        "Se definen los valores de \"X\" y \"Y\", y se dividen los datos de entrenamiento para nuestros modelos "
      ],
      "metadata": {
        "id": "mF936LsJ4luF"
      }
    },
    {
      "cell_type": "code",
      "source": [
        "\n",
        "\n",
        "X = df.drop(columns=\"quality\")           \n",
        "y = df[\"quality\"]    # y = quality"
      ],
      "metadata": {
        "id": "gAjzSUSP1sS3"
      },
      "execution_count": null,
      "outputs": []
    },
    {
      "cell_type": "markdown",
      "source": [
        "dividimos los datos en datos de entrenamiento y datos de prueba"
      ],
      "metadata": {
        "id": "p0Xq0_Jm4_9o"
      }
    },
    {
      "cell_type": "code",
      "source": [
        "\n",
        "X_train, X_test, y_train, y_test = train_test_split(X, y, test_size=0.25, random_state=42)\n",
        "\n",
        "print(\"X Train : \", X_train.shape)\n",
        "print(\"X Test  : \", X_test.shape)\n",
        "print(\"Y Train : \", y_train.shape)"
      ],
      "metadata": {
        "colab": {
          "base_uri": "https://localhost:8080/"
        },
        "id": "RZLYlBkA1vdk",
        "outputId": "6d096bb7-1328-4220-81ba-115f1052e10d"
      },
      "execution_count": null,
      "outputs": [
        {
          "output_type": "stream",
          "name": "stdout",
          "text": [
            "X Train :  (857, 11)\n",
            "X Test  :  (286, 11)\n",
            "Y Train :  (857,)\n"
          ]
        }
      ]
    },
    {
      "cell_type": "markdown",
      "source": [
        "Primero usaremos el modelo de Regresión lineal, hacemos el fit model y mandamos a llamar a nuesros datos x_train y Y_train.\n",
        "Imprimiremos los valores del modelo, después haremos la predicción del Y value con los valores dex_test y por ultimo imprimimos los resultados."
      ],
      "metadata": {
        "id": "BTvRf-n75cF3"
      }
    },
    {
      "cell_type": "code",
      "source": [
        "\n",
        "LR_model=LinearRegression()\n",
        "\n",
        "\n",
        "LR_model.fit(X_train,y_train)\n",
        "\n",
        "\n",
        "\n",
        "print(\"Score the X-train with Y-train is : \", LR_model.score(X_train,y_train))\n",
        "print(\"Score the X-test  with Y-test  is : \", LR_model.score(X_test,y_test))\n",
        "\n",
        "\n",
        "y_pred_LR=LR_model.predict(X_test)\n",
        "\n",
        "\n",
        "print( \" Modelo de Evaluacion  Reg linear : Prom del error absoluto es  \", mean_absolute_error(y_test,y_pred_LR))\n",
        "print(\" Modelo de Evaluacion  Reg linear  : Prom error al cuadrado es \" , mean_squared_error(y_test,y_pred_LR))\n",
        "print(\" Modelo de Evaluacion  Reg linear  : mediana del error absoluto es\" ,median_absolute_error(y_test,y_pred_LR)) "
      ],
      "metadata": {
        "colab": {
          "base_uri": "https://localhost:8080/"
        },
        "id": "kIA66W8A11eK",
        "outputId": "d4054009-1062-482c-bcc1-6edd1528648d"
      },
      "execution_count": null,
      "outputs": [
        {
          "output_type": "stream",
          "name": "stdout",
          "text": [
            "Score the X-train with Y-train is :  0.3766893166865495\n",
            "Score the X-test  with Y-test  is :  0.3487901433645896\n",
            " Model Evaluation Linear R : mean absolute error is  0.47425773322055154\n",
            " Model Evaluation Linear R : mean squared  error is  0.37215517566167367\n",
            " Model Evaluation Linear R : median absolute error is  0.3771988566534361\n"
          ]
        }
      ]
    },
    {
      "cell_type": "markdown",
      "source": [
        "Ahora usaremos el modelo de Regresión logistica para sacar otra estimación de nuestros valores, hacemos el fit model y mandamos a llamar a nuesros datos x_train y Y_train. Imprimiremos los valores del modelo, después haremos la predicción del Y value con los valores dex_test y por ultimo imprimimos los resultados.\n"
      ],
      "metadata": {
        "id": "GBXkbnq26wfI"
      }
    },
    {
      "cell_type": "code",
      "source": [
        "# using the model Logistic Regression\n",
        "\n",
        "Lo_model=LogisticRegression(solver='liblinear')\n",
        "\n",
        "# fit model\n",
        "\n",
        "Lo_model.fit(X_train,y_train)\n",
        "\n",
        "\n",
        "# Score X and Y - test and train model Logistic Regression\n",
        "\n",
        "print(\"Score the X-train with Y-train is : \", Lo_model.score(X_train,y_train))\n",
        "print(\"Score the X-test  with Y-test  is : \", Lo_model.score(X_test,y_test))\n",
        "\n",
        "# Expected value Y using X test\n",
        "y_pred_Lo=Lo_model.predict(X_test)\n",
        "\n",
        "# Model Evaluation\n",
        "print( \" Modelo de Evaluacion  Reg log : Prom del error absoluto es \", mean_absolute_error(y_test,y_pred_Lo))\n",
        "print(\" Modelo de Evaluacion  Reg log  : Prom error al cuadrado es  \" , mean_squared_error(y_test,y_pred_Lo))\n",
        "print(\" Modelo de Evaluacion  Reg log  : mediana del error absoluto es\" ,median_absolute_error(y_test,y_pred_Lo)) \n",
        "\n",
        "print(\" Model Evaluation Logistic R : accuracy score \" , accuracy_score(y_test,y_pred_Lo))"
      ],
      "metadata": {
        "colab": {
          "base_uri": "https://localhost:8080/"
        },
        "id": "XZ3OgGbi1458",
        "outputId": "4127af30-d7e9-4f30-f85b-b66df4c2c7ff"
      },
      "execution_count": null,
      "outputs": [
        {
          "output_type": "stream",
          "name": "stdout",
          "text": [
            "Score the X-train with Y-train is :  0.5869311551925321\n",
            "Score the X-test  with Y-test  is :  0.6258741258741258\n",
            " Model Evaluation Logistic R : mean absolute error is  0.4020979020979021\n",
            " Model Evaluation Logistic R : mean squared  error is  0.458041958041958\n",
            " Model Evaluation Logistic R : median absolute error is  0.0\n",
            " Model Evaluation Logistic R : accuracy score  0.6258741258741258\n"
          ]
        }
      ]
    },
    {
      "cell_type": "markdown",
      "source": [
        "El clasificador de árbol de decisión, crea el modelo de clasificación mediante la construcción de un árbol de decisión. Este lo  usaremos para volver  sacar otra estimación de nuestros valores, hacemos el fit model y mandamos a llamar a nuesros datos x_train y Y_train. Imprimiremos los valores del modelo, después haremos la predicción del Y value con los valores dex_test y por ultimo imprimimos los resultados.\n"
      ],
      "metadata": {
        "id": "YSsF3Bfi7I-v"
      }
    },
    {
      "cell_type": "code",
      "source": [
        "# using the model Decision Tree Classifier\n",
        "Tree_model=DecisionTreeClassifier(max_depth=10)\n",
        "# fit model\n",
        "Tree_model.fit(X_train,y_train)\n",
        "\n",
        "# Score X and Y - test and train\n",
        "\n",
        "print(\"Score del X-train con Y-train es : \", Tree_model.score(X_train,y_train))\n",
        "print(\"Score del X-test  con Y-test  es : \", Tree_model.score(X_test,y_test))"
      ],
      "metadata": {
        "colab": {
          "base_uri": "https://localhost:8080/"
        },
        "id": "skNrZp0V18HX",
        "outputId": "872f4826-afab-42d1-8325-758332c5d5f2"
      },
      "execution_count": null,
      "outputs": [
        {
          "output_type": "stream",
          "name": "stdout",
          "text": [
            "Score the X-train with Y-train is :  0.9253208868144691\n",
            "Score the X-test  with Y-test  is :  0.5314685314685315\n"
          ]
        }
      ]
    },
    {
      "cell_type": "markdown",
      "source": [
        "Se seleccionan las columnas más relevantes del modelo "
      ],
      "metadata": {
        "id": "z9-15AZD71_v"
      }
    },
    {
      "cell_type": "code",
      "source": [
        "\n",
        "\n",
        "print(\"The Important columns \\n\",Tree_model.feature_importances_)"
      ],
      "metadata": {
        "colab": {
          "base_uri": "https://localhost:8080/"
        },
        "id": "ERjY3ueg1_0N",
        "outputId": "6a55e81a-8c7c-48dd-c21b-c1d1b7f4488e"
      },
      "execution_count": null,
      "outputs": [
        {
          "output_type": "stream",
          "name": "stdout",
          "text": [
            "The Important columns \n",
            " [0.06298302 0.11228488 0.07547459 0.07109646 0.09177534 0.0716673\n",
            " 0.09333552 0.03719433 0.05898022 0.12652244 0.1986859 ]\n"
          ]
        }
      ]
    },
    {
      "cell_type": "markdown",
      "source": [
        "Imprimimos las clases, de nuestro tree model, para con eso poder hacer el modelo de evaulación y saber el acuracy score de este modelo."
      ],
      "metadata": {
        "id": "IqMV7wI57_u5"
      }
    },
    {
      "cell_type": "code",
      "source": [
        "print(\"Las clases \",Tree_model.classes_)\n",
        "\n",
        "y_pred_T =Tree_model.predict(X_test)\n",
        "\n",
        "print(\" Modelo de Evaluacion del Decision Tree : accuracy score \" , accuracy_score(y_test,y_pred_T))"
      ],
      "metadata": {
        "colab": {
          "base_uri": "https://localhost:8080/"
        },
        "id": "E1n01RUm2GL7",
        "outputId": "2f7c827d-a900-455a-ee19-dfba46ff7eae"
      },
      "execution_count": null,
      "outputs": [
        {
          "output_type": "stream",
          "name": "stdout",
          "text": [
            "The classes  [0 1 2 3 4 5]\n",
            " Model Evaluation Decision Tree : accuracy score  0.5314685314685315\n"
          ]
        }
      ]
    },
    {
      "cell_type": "markdown",
      "source": [
        "los modelos  SVM son más fáciles de explicar para problemas de clasificación. El objetivo de un SVC lineal (Support Vector Classifier) es adecuarse a los datos que usted proporciona, devolviendo un hiperplano “ideal” que divide o categoriza sus datos."
      ],
      "metadata": {
        "id": "omMchRib8R8w"
      }
    },
    {
      "cell_type": "code",
      "source": [
        "# Aplicando el modelo SVC\n",
        "svc_model=SVC(C=50,kernel=\"rbf\")\n",
        "\n",
        "# fit model\n",
        "svc_model.fit(X_train,y_train)\n",
        "\n",
        "y_pred_svc =svc_model.predict(X_test)\n",
        "\n",
        "print(\"Score del X-train con el Y-train es : \", svc_model.score(X_train,y_train))\n",
        "print(\"Score del X-test  con el  Y-test  es : \", svc_model.score(X_test,y_test))\n",
        "print(\" Modelo de  Evaluacion  del Decision Tree : accuracy score \" , accuracy_score(y_test,y_pred_svc))"
      ],
      "metadata": {
        "colab": {
          "base_uri": "https://localhost:8080/"
        },
        "id": "5ojr-FnP2J7m",
        "outputId": "b97bdcf3-7c04-4a70-9b82-8a02e881e4ce"
      },
      "execution_count": null,
      "outputs": [
        {
          "output_type": "stream",
          "name": "stdout",
          "text": [
            "Score the X-train with Y-train is :  0.5950991831971996\n",
            "Score the X-test  with Y-test  is :  0.6433566433566433\n",
            " Model Evaluation Decision Tree : accuracy score  0.6433566433566433\n"
          ]
        }
      ]
    },
    {
      "cell_type": "markdown",
      "source": [
        "EL modelo SVR, Es un conjunto de algoritmos de aprendizaje supervisado relacionados directamente con problemas de clasificación y regresión en donde a partir de un conjunto de datos de entrenamiento o muestras y con las clases etiquetadas se entrena una SVM para construir el modelo que prediga la clase de una muestra nueva."
      ],
      "metadata": {
        "id": "zWpxJAq7-Clb"
      }
    },
    {
      "cell_type": "code",
      "source": [
        "# Aplicando el  modelo SVR\n",
        "\n",
        "svr_model=SVR(degree=1,coef0=1, tol=0.001, C=1.5,epsilon=0.001)\n",
        "\n",
        "# fit model\n",
        "svr_model.fit(X_train,y_train)\n",
        "\n",
        "y_pred_svr =svc_model.predict(X_test)\n",
        "\n",
        "print(\"Score de X-train con Y-train es : \", svr_model.score(X_train,y_train))\n",
        "print(\"Score the X-test  con Y-test  es : \", svr_model.score(X_test,y_test))\n",
        "print(\" modelo de evaluación del Decision Tree : accuracy score \" , accuracy_score(y_test,y_pred_svr))"
      ],
      "metadata": {
        "colab": {
          "base_uri": "https://localhost:8080/"
        },
        "id": "SiOvPclp2NZo",
        "outputId": "3b088cba-185a-4655-de48-e540240ff9f6"
      },
      "execution_count": null,
      "outputs": [
        {
          "output_type": "stream",
          "name": "stdout",
          "text": [
            "Score the X-train with Y-train is :  0.14069185408666485\n",
            "Score the X-test  with Y-test  is :  0.2350170995614116\n",
            " Model Evaluation Decision Tree : accuracy score  0.6433566433566433\n"
          ]
        }
      ]
    },
    {
      "cell_type": "markdown",
      "source": [
        "# Resultados de construcción de modelos:\n",
        "\n",
        "\n",
        "    ** 1- Regresión Lineal**\n",
        "     La puntuación del train_X con el  train_Y es: 0,37 %\n",
        "     La puntuación de la prueba X con la prueba Y es: 0,34 %\n",
        "     El error absoluto medio es 0.47%\n",
        "     El error cuadrático medio es 0.37%\n",
        "\n",
        "     El error absoluto medio es 0.37%\n",
        "\n",
        "    ** 2- Regresión Logística**\n",
        "\n",
        "     La puntuación del  train_X con el  train_Y es: 0,58 %\n",
        "     La puntuación de la prueba X con la prueba Y es: 0,62 %\n",
        "     El error absoluto medio es 0.40%\n",
        "     El error cuadrático medio es 0.45%\n",
        "     El error absoluto medio es 0.0\n",
        "     Puntuación de precisión 0,625 %\n",
        "\n",
        "**Clasificador de árboles de decisión**\n",
        "\n",
        "     La puntuación del train_X con el train_Y es: 0,92 %\n",
        "     La puntuación de la prueba X con la prueba Y es: 0,54 %\n",
        "     Puntuación de precisión 0,54 %\n",
        "\n",
        "**Modelo SVM**\n",
        "\n",
        "     **1- CVS**\n",
        "     Calificar el train_X con el train_Y es: 0.59%\n",
        "     La puntuación de la prueba X con la prueba Y es: 0,64 %\n",
        "\n",
        "     Puntuación de precisión 0,64 %\n",
        "\n",
        "     **2-RVS**\n",
        "\n",
        "     La puntuación del train_X con el train_Y es: 0,14 %\n",
        "     La puntuación de la prueba X con la prueba Y es: 0,23 %\n",
        "     Puntuación de precisión 0,64 %"
      ],
      "metadata": {
        "id": "qMY1esMe8lpa"
      }
    }
  ]
}